{
 "cells": [
  {
   "cell_type": "code",
   "execution_count": 1,
   "outputs": [],
   "source": [
    "# Import DS tools\n",
    "import pandas as pd\n",
    "\n",
    "# Import project specific functions\n",
    "from scripts import data\n",
    "\n",
    "# Import data\n",
    "data_dict = data.get_clean_data_dict()\n",
    "purchases = data_dict['purchases']\n",
    "users = data_dict['users']"
   ],
   "metadata": {
    "collapsed": false,
    "pycharm": {
     "name": "#%%\n"
    }
   }
  },
  {
   "cell_type": "markdown",
   "source": [
    "### Target data-frame analysis and munging\n",
    "Our goal is to predict the value of the purchases each `user_id` will perform at a given date. For that reason, we start by fixing the data-frame so that it is given in\n",
    "the format $t|i_1|\\cdots|i_N$, where $t$ is the time (with a daily granularity), $i_k$ contains the amount the $k$-th user_id spent, and $N$ is the total number of user_id."
   ],
   "metadata": {
    "collapsed": false
   }
  },
  {
   "cell_type": "code",
   "execution_count": 2,
   "outputs": [
    {
     "data": {
      "text/plain": "             30_1690   30_2020   30_2022   30_2023    75_181    78_945  \\\n2017-08-12  0.472902  0.000000  0.000000  0.000000  0.000000  0.000000   \n2017-08-13  0.000000  0.000000  0.000000  0.000000  0.000000  0.000000   \n2017-08-14  0.000000  1.212912  0.651416  0.951341  0.948683  0.437971   \n2017-08-15  0.000000  0.000000  0.000000  0.000000  0.000000  0.000000   \n2017-08-16  0.000000  0.000000  0.000000  0.000000  0.000000  0.000000   \n...              ...       ...       ...       ...       ...       ...   \n2021-08-07  0.000000  0.000000  0.000000  0.000000  0.000000  0.000000   \n2021-08-08  0.000000  0.000000  0.000000  0.000000  0.000000  0.000000   \n2021-08-09  0.000000  0.000000  0.000000  0.000000  0.000000  0.000000   \n2021-08-10  0.000000  0.000000  0.000000  0.000000  0.000000  0.000000   \n2021-08-11  0.000000  0.000000  0.000000  0.000000  0.000000  0.000000   \n\n             30_1577   30_2031  78_1850  30_1760  ...   87   88   89   93  \\\n2017-08-12  0.000000  0.000000      0.0      0.0  ...  0.0  0.0  0.0  0.0   \n2017-08-13  0.000000  0.000000      0.0      0.0  ...  0.0  0.0  0.0  0.0   \n2017-08-14  0.000000  0.000000      0.0      0.0  ...  0.0  0.0  0.0  0.0   \n2017-08-15  0.000000  0.000000      0.0      0.0  ...  0.0  0.0  0.0  0.0   \n2017-08-16  0.476731  0.476837      0.0      0.0  ...  0.0  0.0  0.0  0.0   \n...              ...       ...      ...      ...  ...  ...  ...  ...  ...   \n2021-08-07  0.000000  0.000000      0.0      0.0  ...  0.0  0.0  0.0  0.0   \n2021-08-08  0.000000  0.000000      0.0      0.0  ...  0.0  0.0  0.0  0.0   \n2021-08-09  0.000000  0.000000      0.0      0.0  ...  0.0  0.0  0.0  0.0   \n2021-08-10  0.000000  0.000000      0.0      0.0  ...  0.0  0.0  0.0  0.0   \n2021-08-11  0.000000  0.000000      0.0      0.0  ...  0.0  0.0  0.0  0.0   \n\n             94   95   96   97   99      total  \n2017-08-12  0.0  0.0  0.0  0.0  0.0   0.472902  \n2017-08-13  0.0  0.0  0.0  0.0  0.0   0.000000  \n2017-08-14  0.0  0.0  0.0  0.0  0.0   4.202323  \n2017-08-15  0.0  0.0  0.0  0.0  0.0   0.000000  \n2017-08-16  0.0  0.0  0.0  0.0  0.0   0.953569  \n...         ...  ...  ...  ...  ...        ...  \n2021-08-07  0.0  0.0  0.0  0.0  0.0  52.802193  \n2021-08-08  0.0  0.0  0.0  0.0  0.0  62.271813  \n2021-08-09  0.0  0.0  0.0  0.0  0.0  49.594107  \n2021-08-10  0.0  0.0  0.0  0.0  0.0  56.233659  \n2021-08-11  0.0  0.0  0.0  0.0  0.0  48.750544  \n\n[1461 rows x 44683 columns]",
      "text/html": "<div>\n<style scoped>\n    .dataframe tbody tr th:only-of-type {\n        vertical-align: middle;\n    }\n\n    .dataframe tbody tr th {\n        vertical-align: top;\n    }\n\n    .dataframe thead th {\n        text-align: right;\n    }\n</style>\n<table border=\"1\" class=\"dataframe\">\n  <thead>\n    <tr style=\"text-align: right;\">\n      <th></th>\n      <th>30_1690</th>\n      <th>30_2020</th>\n      <th>30_2022</th>\n      <th>30_2023</th>\n      <th>75_181</th>\n      <th>78_945</th>\n      <th>30_1577</th>\n      <th>30_2031</th>\n      <th>78_1850</th>\n      <th>30_1760</th>\n      <th>...</th>\n      <th>87</th>\n      <th>88</th>\n      <th>89</th>\n      <th>93</th>\n      <th>94</th>\n      <th>95</th>\n      <th>96</th>\n      <th>97</th>\n      <th>99</th>\n      <th>total</th>\n    </tr>\n  </thead>\n  <tbody>\n    <tr>\n      <th>2017-08-12</th>\n      <td>0.472902</td>\n      <td>0.000000</td>\n      <td>0.000000</td>\n      <td>0.000000</td>\n      <td>0.000000</td>\n      <td>0.000000</td>\n      <td>0.000000</td>\n      <td>0.000000</td>\n      <td>0.0</td>\n      <td>0.0</td>\n      <td>...</td>\n      <td>0.0</td>\n      <td>0.0</td>\n      <td>0.0</td>\n      <td>0.0</td>\n      <td>0.0</td>\n      <td>0.0</td>\n      <td>0.0</td>\n      <td>0.0</td>\n      <td>0.0</td>\n      <td>0.472902</td>\n    </tr>\n    <tr>\n      <th>2017-08-13</th>\n      <td>0.000000</td>\n      <td>0.000000</td>\n      <td>0.000000</td>\n      <td>0.000000</td>\n      <td>0.000000</td>\n      <td>0.000000</td>\n      <td>0.000000</td>\n      <td>0.000000</td>\n      <td>0.0</td>\n      <td>0.0</td>\n      <td>...</td>\n      <td>0.0</td>\n      <td>0.0</td>\n      <td>0.0</td>\n      <td>0.0</td>\n      <td>0.0</td>\n      <td>0.0</td>\n      <td>0.0</td>\n      <td>0.0</td>\n      <td>0.0</td>\n      <td>0.000000</td>\n    </tr>\n    <tr>\n      <th>2017-08-14</th>\n      <td>0.000000</td>\n      <td>1.212912</td>\n      <td>0.651416</td>\n      <td>0.951341</td>\n      <td>0.948683</td>\n      <td>0.437971</td>\n      <td>0.000000</td>\n      <td>0.000000</td>\n      <td>0.0</td>\n      <td>0.0</td>\n      <td>...</td>\n      <td>0.0</td>\n      <td>0.0</td>\n      <td>0.0</td>\n      <td>0.0</td>\n      <td>0.0</td>\n      <td>0.0</td>\n      <td>0.0</td>\n      <td>0.0</td>\n      <td>0.0</td>\n      <td>4.202323</td>\n    </tr>\n    <tr>\n      <th>2017-08-15</th>\n      <td>0.000000</td>\n      <td>0.000000</td>\n      <td>0.000000</td>\n      <td>0.000000</td>\n      <td>0.000000</td>\n      <td>0.000000</td>\n      <td>0.000000</td>\n      <td>0.000000</td>\n      <td>0.0</td>\n      <td>0.0</td>\n      <td>...</td>\n      <td>0.0</td>\n      <td>0.0</td>\n      <td>0.0</td>\n      <td>0.0</td>\n      <td>0.0</td>\n      <td>0.0</td>\n      <td>0.0</td>\n      <td>0.0</td>\n      <td>0.0</td>\n      <td>0.000000</td>\n    </tr>\n    <tr>\n      <th>2017-08-16</th>\n      <td>0.000000</td>\n      <td>0.000000</td>\n      <td>0.000000</td>\n      <td>0.000000</td>\n      <td>0.000000</td>\n      <td>0.000000</td>\n      <td>0.476731</td>\n      <td>0.476837</td>\n      <td>0.0</td>\n      <td>0.0</td>\n      <td>...</td>\n      <td>0.0</td>\n      <td>0.0</td>\n      <td>0.0</td>\n      <td>0.0</td>\n      <td>0.0</td>\n      <td>0.0</td>\n      <td>0.0</td>\n      <td>0.0</td>\n      <td>0.0</td>\n      <td>0.953569</td>\n    </tr>\n    <tr>\n      <th>...</th>\n      <td>...</td>\n      <td>...</td>\n      <td>...</td>\n      <td>...</td>\n      <td>...</td>\n      <td>...</td>\n      <td>...</td>\n      <td>...</td>\n      <td>...</td>\n      <td>...</td>\n      <td>...</td>\n      <td>...</td>\n      <td>...</td>\n      <td>...</td>\n      <td>...</td>\n      <td>...</td>\n      <td>...</td>\n      <td>...</td>\n      <td>...</td>\n      <td>...</td>\n      <td>...</td>\n    </tr>\n    <tr>\n      <th>2021-08-07</th>\n      <td>0.000000</td>\n      <td>0.000000</td>\n      <td>0.000000</td>\n      <td>0.000000</td>\n      <td>0.000000</td>\n      <td>0.000000</td>\n      <td>0.000000</td>\n      <td>0.000000</td>\n      <td>0.0</td>\n      <td>0.0</td>\n      <td>...</td>\n      <td>0.0</td>\n      <td>0.0</td>\n      <td>0.0</td>\n      <td>0.0</td>\n      <td>0.0</td>\n      <td>0.0</td>\n      <td>0.0</td>\n      <td>0.0</td>\n      <td>0.0</td>\n      <td>52.802193</td>\n    </tr>\n    <tr>\n      <th>2021-08-08</th>\n      <td>0.000000</td>\n      <td>0.000000</td>\n      <td>0.000000</td>\n      <td>0.000000</td>\n      <td>0.000000</td>\n      <td>0.000000</td>\n      <td>0.000000</td>\n      <td>0.000000</td>\n      <td>0.0</td>\n      <td>0.0</td>\n      <td>...</td>\n      <td>0.0</td>\n      <td>0.0</td>\n      <td>0.0</td>\n      <td>0.0</td>\n      <td>0.0</td>\n      <td>0.0</td>\n      <td>0.0</td>\n      <td>0.0</td>\n      <td>0.0</td>\n      <td>62.271813</td>\n    </tr>\n    <tr>\n      <th>2021-08-09</th>\n      <td>0.000000</td>\n      <td>0.000000</td>\n      <td>0.000000</td>\n      <td>0.000000</td>\n      <td>0.000000</td>\n      <td>0.000000</td>\n      <td>0.000000</td>\n      <td>0.000000</td>\n      <td>0.0</td>\n      <td>0.0</td>\n      <td>...</td>\n      <td>0.0</td>\n      <td>0.0</td>\n      <td>0.0</td>\n      <td>0.0</td>\n      <td>0.0</td>\n      <td>0.0</td>\n      <td>0.0</td>\n      <td>0.0</td>\n      <td>0.0</td>\n      <td>49.594107</td>\n    </tr>\n    <tr>\n      <th>2021-08-10</th>\n      <td>0.000000</td>\n      <td>0.000000</td>\n      <td>0.000000</td>\n      <td>0.000000</td>\n      <td>0.000000</td>\n      <td>0.000000</td>\n      <td>0.000000</td>\n      <td>0.000000</td>\n      <td>0.0</td>\n      <td>0.0</td>\n      <td>...</td>\n      <td>0.0</td>\n      <td>0.0</td>\n      <td>0.0</td>\n      <td>0.0</td>\n      <td>0.0</td>\n      <td>0.0</td>\n      <td>0.0</td>\n      <td>0.0</td>\n      <td>0.0</td>\n      <td>56.233659</td>\n    </tr>\n    <tr>\n      <th>2021-08-11</th>\n      <td>0.000000</td>\n      <td>0.000000</td>\n      <td>0.000000</td>\n      <td>0.000000</td>\n      <td>0.000000</td>\n      <td>0.000000</td>\n      <td>0.000000</td>\n      <td>0.000000</td>\n      <td>0.0</td>\n      <td>0.0</td>\n      <td>...</td>\n      <td>0.0</td>\n      <td>0.0</td>\n      <td>0.0</td>\n      <td>0.0</td>\n      <td>0.0</td>\n      <td>0.0</td>\n      <td>0.0</td>\n      <td>0.0</td>\n      <td>0.0</td>\n      <td>48.750544</td>\n    </tr>\n  </tbody>\n</table>\n<p>1461 rows × 44683 columns</p>\n</div>"
     },
     "execution_count": 2,
     "metadata": {},
     "output_type": "execute_result"
    }
   ],
   "source": [
    "# Merge purchases and users\n",
    "merged_df = pd.merge(\n",
    "    purchases,\n",
    "    users\n",
    ")[['user_id', 'purchased_at', 'value', 'orig_1']]\n",
    "# Fix target categorical cols\n",
    "merged_df['user_id'] = merged_df.user_id.fillna(-1).astype(int).astype(str)\n",
    "merged_df['orig_1'] = merged_df.orig_1.fillna(-1).astype(int).astype(str)\n",
    "merged_df['t'] = merged_df.purchased_at.dt.date\n",
    "\n",
    "# Create hierarchy,\n",
    "# - First creating top\n",
    "hierarchy = {\n",
    "    'total': merged_df.orig_1.unique().tolist()\n",
    "}\n",
    "# - Then for each possible origin, getting possible unique user_ids\n",
    "for orig_1 in merged_df.orig_1.unique():\n",
    "    hierarchy[orig_1] = merged_df[merged_df.orig_1 == orig_1].user_id.unique().tolist()\n",
    "    hierarchy[orig_1] = [orig_1 + '_' + user_id for user_id in hierarchy[orig_1]]\n",
    "\n",
    "# Create Y in scikit-hts format,\n",
    "# - first creating bottom time series:\n",
    "Y_bottom = merged_df.groupby(\n",
    "    ['t', 'orig_1', 'user_id']\n",
    ").value.sum().reset_index().pivot(\n",
    "    index='t',\n",
    "    columns=['orig_1', 'user_id'],\n",
    "    values='value'\n",
    ")\n",
    "Y_bottom = Y_bottom.reindex(\n",
    "    pd.date_range(\n",
    "        start=Y_bottom.index.min(),\n",
    "        end=Y_bottom.index.max(),\n",
    "        freq='1d'\n",
    "    )\n",
    ").fillna(0)\n",
    "Y_bottom.columns = [\"_\".join(cols) for cols in Y_bottom.columns]\n",
    "# - then middle - origin_1 - columns\n",
    "Y_mid = merged_df.groupby(\n",
    "    ['t', 'orig_1']\n",
    ").value.sum().reset_index().pivot(\n",
    "    index='t',\n",
    "    columns=['orig_1'],\n",
    "    values='value'\n",
    ").reindex(\n",
    "    pd.date_range(\n",
    "        start=Y_bottom.index.min(),\n",
    "        end=Y_bottom.index.max(),\n",
    "        freq='1d'\n",
    "    )\n",
    ").fillna(0)\n",
    "# finally total\n",
    "Y_total = Y_mid.sum(axis=1).rename('total')\n",
    "# and concatenating all of them\n",
    "Y = pd.concat(\n",
    "    (Y_bottom, Y_mid, Y_total), axis=1\n",
    ")\n",
    "Y"
   ],
   "metadata": {
    "collapsed": false,
    "pycharm": {
     "name": "#%%\n"
    }
   }
  },
  {
   "cell_type": "code",
   "execution_count": 3,
   "outputs": [
    {
     "name": "stdout",
     "output_type": "stream",
     "text": [
      "ERROR! Session/line number was not unique in database. History logging moved to new session 897\n"
     ]
    },
    {
     "ename": "KeyboardInterrupt",
     "evalue": "",
     "output_type": "error",
     "traceback": [
      "\u001B[0;31m---------------------------------------------------------------------------\u001B[0m",
      "\u001B[0;31mKeyboardInterrupt\u001B[0m                         Traceback (most recent call last)",
      "\u001B[0;32m/var/folders/nr/kwp_p4c52mg2qr7k07sm3f300000gn/T/ipykernel_62853/2570570007.py\u001B[0m in \u001B[0;36m<module>\u001B[0;34m\u001B[0m\n\u001B[1;32m      9\u001B[0m \u001B[0;34m\u001B[0m\u001B[0m\n\u001B[1;32m     10\u001B[0m \u001B[0mclf\u001B[0m \u001B[0;34m=\u001B[0m \u001B[0mHTSRegressor\u001B[0m\u001B[0;34m(\u001B[0m\u001B[0mmodel\u001B[0m\u001B[0;34m=\u001B[0m\u001B[0;34m'holt_winters'\u001B[0m\u001B[0;34m,\u001B[0m \u001B[0mrevision_method\u001B[0m\u001B[0;34m=\u001B[0m\u001B[0;34m'WLSV'\u001B[0m\u001B[0;34m,\u001B[0m \u001B[0mlow_memory\u001B[0m\u001B[0;34m=\u001B[0m\u001B[0;32mTrue\u001B[0m\u001B[0;34m,\u001B[0m \u001B[0mn_jobs\u001B[0m\u001B[0;34m=\u001B[0m\u001B[0;36m4\u001B[0m\u001B[0;34m)\u001B[0m\u001B[0;34m\u001B[0m\u001B[0;34m\u001B[0m\u001B[0m\n\u001B[0;32m---> 11\u001B[0;31m \u001B[0mmodel\u001B[0m \u001B[0;34m=\u001B[0m \u001B[0mclf\u001B[0m\u001B[0;34m.\u001B[0m\u001B[0mfit\u001B[0m\u001B[0;34m(\u001B[0m\u001B[0mY\u001B[0m\u001B[0;34m,\u001B[0m \u001B[0mhierarchy\u001B[0m\u001B[0;34m)\u001B[0m\u001B[0;34m\u001B[0m\u001B[0;34m\u001B[0m\u001B[0m\n\u001B[0m",
      "\u001B[0;32m/Library/Frameworks/Python.framework/Versions/3.9/lib/python3.9/site-packages/hts/core/regressor.py\u001B[0m in \u001B[0;36mfit\u001B[0;34m(self, df, nodes, tree, exogenous, root, distributor, disable_progressbar, show_warnings, **fit_kwargs)\u001B[0m\n\u001B[1;32m    217\u001B[0m         \"\"\"\n\u001B[1;32m    218\u001B[0m \u001B[0;34m\u001B[0m\u001B[0m\n\u001B[0;32m--> 219\u001B[0;31m         \u001B[0mself\u001B[0m\u001B[0;34m.\u001B[0m\u001B[0m__init_hts\u001B[0m\u001B[0;34m(\u001B[0m\u001B[0mnodes\u001B[0m\u001B[0;34m=\u001B[0m\u001B[0mnodes\u001B[0m\u001B[0;34m,\u001B[0m \u001B[0mdf\u001B[0m\u001B[0;34m=\u001B[0m\u001B[0mdf\u001B[0m\u001B[0;34m,\u001B[0m \u001B[0mtree\u001B[0m\u001B[0;34m=\u001B[0m\u001B[0mtree\u001B[0m\u001B[0;34m,\u001B[0m \u001B[0mroot\u001B[0m\u001B[0;34m=\u001B[0m\u001B[0mroot\u001B[0m\u001B[0;34m,\u001B[0m \u001B[0mexogenous\u001B[0m\u001B[0;34m=\u001B[0m\u001B[0mexogenous\u001B[0m\u001B[0;34m)\u001B[0m\u001B[0;34m\u001B[0m\u001B[0;34m\u001B[0m\u001B[0m\n\u001B[0m\u001B[1;32m    220\u001B[0m \u001B[0;34m\u001B[0m\u001B[0m\n\u001B[1;32m    221\u001B[0m         \u001B[0mnodes\u001B[0m \u001B[0;34m=\u001B[0m \u001B[0mmake_iterable\u001B[0m\u001B[0;34m(\u001B[0m\u001B[0mself\u001B[0m\u001B[0;34m.\u001B[0m\u001B[0mnodes\u001B[0m\u001B[0;34m,\u001B[0m \u001B[0mprop\u001B[0m\u001B[0;34m=\u001B[0m\u001B[0;32mNone\u001B[0m\u001B[0;34m)\u001B[0m\u001B[0;34m\u001B[0m\u001B[0;34m\u001B[0m\u001B[0m\n",
      "\u001B[0;32m/Library/Frameworks/Python.framework/Versions/3.9/lib/python3.9/site-packages/hts/core/regressor.py\u001B[0m in \u001B[0;36m__init_hts\u001B[0;34m(self, nodes, df, tree, root, exogenous)\u001B[0m\n\u001B[1;32m    149\u001B[0m             )\n\u001B[1;32m    150\u001B[0m         \u001B[0mself\u001B[0m\u001B[0;34m.\u001B[0m\u001B[0mexogenous\u001B[0m \u001B[0;34m=\u001B[0m \u001B[0mexogenous\u001B[0m\u001B[0;34m\u001B[0m\u001B[0;34m\u001B[0m\u001B[0m\n\u001B[0;32m--> 151\u001B[0;31m         \u001B[0mself\u001B[0m\u001B[0;34m.\u001B[0m\u001B[0msum_mat\u001B[0m\u001B[0;34m,\u001B[0m \u001B[0msum_mat_labels\u001B[0m \u001B[0;34m=\u001B[0m \u001B[0mto_sum_mat\u001B[0m\u001B[0;34m(\u001B[0m\u001B[0mself\u001B[0m\u001B[0;34m.\u001B[0m\u001B[0mnodes\u001B[0m\u001B[0;34m)\u001B[0m\u001B[0;34m\u001B[0m\u001B[0;34m\u001B[0m\u001B[0m\n\u001B[0m\u001B[1;32m    152\u001B[0m         \u001B[0mself\u001B[0m\u001B[0;34m.\u001B[0m\u001B[0m_set_model_instance\u001B[0m\u001B[0;34m(\u001B[0m\u001B[0;34m)\u001B[0m\u001B[0;34m\u001B[0m\u001B[0;34m\u001B[0m\u001B[0m\n\u001B[1;32m    153\u001B[0m         \u001B[0mself\u001B[0m\u001B[0;34m.\u001B[0m\u001B[0m_init_revision\u001B[0m\u001B[0;34m(\u001B[0m\u001B[0;34m)\u001B[0m\u001B[0;34m\u001B[0m\u001B[0;34m\u001B[0m\u001B[0m\n",
      "\u001B[0;32m/Library/Frameworks/Python.framework/Versions/3.9/lib/python3.9/site-packages/hts/functions.py\u001B[0m in \u001B[0;36mto_sum_mat\u001B[0;34m(ntree, node_labels)\u001B[0m\n\u001B[1;32m     72\u001B[0m                 \u001B[0;31m# Add row correspoding to label to top of summing matrix\u001B[0m\u001B[0;34m\u001B[0m\u001B[0;34m\u001B[0m\u001B[0;34m\u001B[0m\u001B[0m\n\u001B[1;32m     73\u001B[0m                 \u001B[0mrow\u001B[0m \u001B[0;34m=\u001B[0m \u001B[0mnp\u001B[0m\u001B[0;34m.\u001B[0m\u001B[0marray\u001B[0m\u001B[0;34m(\u001B[0m\u001B[0mrow\u001B[0m\u001B[0;34m)\u001B[0m\u001B[0;34m\u001B[0m\u001B[0;34m\u001B[0m\u001B[0m\n\u001B[0;32m---> 74\u001B[0;31m                 \u001B[0msum_mat\u001B[0m \u001B[0;34m=\u001B[0m \u001B[0mnp\u001B[0m\u001B[0;34m.\u001B[0m\u001B[0mvstack\u001B[0m\u001B[0;34m(\u001B[0m\u001B[0;34m(\u001B[0m\u001B[0mrow\u001B[0m\u001B[0;34m,\u001B[0m \u001B[0msum_mat\u001B[0m\u001B[0;34m)\u001B[0m\u001B[0;34m)\u001B[0m\u001B[0;34m\u001B[0m\u001B[0;34m\u001B[0m\u001B[0m\n\u001B[0m\u001B[1;32m     75\u001B[0m                 \u001B[0msum_mat_labels\u001B[0m\u001B[0;34m.\u001B[0m\u001B[0mappend\u001B[0m\u001B[0;34m(\u001B[0m\u001B[0mlabel\u001B[0m\u001B[0;34m)\u001B[0m\u001B[0;34m\u001B[0m\u001B[0;34m\u001B[0m\u001B[0m\n\u001B[1;32m     76\u001B[0m \u001B[0;34m\u001B[0m\u001B[0m\n",
      "\u001B[0;32m/Library/Frameworks/Python.framework/Versions/3.9/lib/python3.9/site-packages/numpy/core/overrides.py\u001B[0m in \u001B[0;36mvstack\u001B[0;34m(*args, **kwargs)\u001B[0m\n",
      "\u001B[0;32m/Library/Frameworks/Python.framework/Versions/3.9/lib/python3.9/site-packages/numpy/core/shape_base.py\u001B[0m in \u001B[0;36mvstack\u001B[0;34m(tup)\u001B[0m\n\u001B[1;32m    280\u001B[0m     \u001B[0;32mif\u001B[0m \u001B[0;32mnot\u001B[0m \u001B[0misinstance\u001B[0m\u001B[0;34m(\u001B[0m\u001B[0marrs\u001B[0m\u001B[0;34m,\u001B[0m \u001B[0mlist\u001B[0m\u001B[0;34m)\u001B[0m\u001B[0;34m:\u001B[0m\u001B[0;34m\u001B[0m\u001B[0;34m\u001B[0m\u001B[0m\n\u001B[1;32m    281\u001B[0m         \u001B[0marrs\u001B[0m \u001B[0;34m=\u001B[0m \u001B[0;34m[\u001B[0m\u001B[0marrs\u001B[0m\u001B[0;34m]\u001B[0m\u001B[0;34m\u001B[0m\u001B[0;34m\u001B[0m\u001B[0m\n\u001B[0;32m--> 282\u001B[0;31m     \u001B[0;32mreturn\u001B[0m \u001B[0m_nx\u001B[0m\u001B[0;34m.\u001B[0m\u001B[0mconcatenate\u001B[0m\u001B[0;34m(\u001B[0m\u001B[0marrs\u001B[0m\u001B[0;34m,\u001B[0m \u001B[0;36m0\u001B[0m\u001B[0;34m)\u001B[0m\u001B[0;34m\u001B[0m\u001B[0;34m\u001B[0m\u001B[0m\n\u001B[0m\u001B[1;32m    283\u001B[0m \u001B[0;34m\u001B[0m\u001B[0m\n\u001B[1;32m    284\u001B[0m \u001B[0;34m\u001B[0m\u001B[0m\n",
      "\u001B[0;32m/Library/Frameworks/Python.framework/Versions/3.9/lib/python3.9/site-packages/numpy/core/overrides.py\u001B[0m in \u001B[0;36mconcatenate\u001B[0;34m(*args, **kwargs)\u001B[0m\n",
      "\u001B[0;31mKeyboardInterrupt\u001B[0m: "
     ]
    }
   ],
   "source": [
    "from hts.hierarchy import HierarchyTree\n",
    "\n",
    "# Create hierarchy tree\n",
    "tree = HierarchyTree.from_nodes(\n",
    "    nodes=hierarchy,\n",
    "    df=Y\n",
    ")\n",
    "from hts import HTSRegressor\n",
    "\n",
    "clf = HTSRegressor(model='holt_winters', revision_method='WLSV', low_memory=True, n_jobs=4)\n",
    "model = clf.fit(Y, hierarchy)"
   ],
   "metadata": {
    "collapsed": false,
    "pycharm": {
     "name": "#%%\n"
    }
   }
  },
  {
   "cell_type": "code",
   "execution_count": null,
   "outputs": [],
   "source": [
    "import hts.functions\n",
    "import statsmodels, collections, tqdm\n",
    "sum_mat, sum_mat_labels = hts.functions.to_sum_mat(tree)\n",
    "\n",
    "forecasts = pd.DataFrame(columns=Y.columns, index=['fake'])\n",
    "\n",
    "# Make forecasts made outside of package. Could be any modeling technique.\n",
    "for col in tqdm.tqdm(Y.columns):\n",
    "    model = statsmodels.tsa.holtwinters.SimpleExpSmoothing(Y[col].values).fit()\n",
    "    fcst = list(model.forecast(1))\n",
    "    forecasts[col] = fcst\n",
    "\n",
    "pred_dict = collections.OrderedDict()"
   ],
   "metadata": {
    "collapsed": false,
    "pycharm": {
     "name": "#%%\n",
     "is_executing": true
    }
   }
  },
  {
   "cell_type": "code",
   "execution_count": null,
   "outputs": [],
   "source": [
    "# Add predictions to dictionary is same order as summing matrix\n",
    "for label in sum_mat_labels:\n",
    "    pred_dict[label] = pd.DataFrame(data=forecasts[label].values, columns=['yhat'])"
   ],
   "metadata": {
    "collapsed": false,
    "pycharm": {
     "name": "#%%\n"
    }
   }
  },
  {
   "cell_type": "code",
   "execution_count": null,
   "outputs": [],
   "source": [
    "revised = hts.functions.optimal_combination(pred_dict, sum_mat, method='WLSV', mse={})\n",
    "\n",
    "# Put reconciled forecasts in nice DataFrame form\n",
    "revised_forecasts = pd.DataFrame(\n",
    "    data=revised[0:,0:],\n",
    "    index=forecasts.index,\n",
    "    columns=sum_mat_labels\n",
    ")"
   ],
   "metadata": {
    "collapsed": false,
    "pycharm": {
     "name": "#%%\n"
    }
   }
  }
 ],
 "metadata": {
  "kernelspec": {
   "display_name": "Python 3",
   "language": "python",
   "name": "python3"
  },
  "language_info": {
   "codemirror_mode": {
    "name": "ipython",
    "version": 2
   },
   "file_extension": ".py",
   "mimetype": "text/x-python",
   "name": "python",
   "nbconvert_exporter": "python",
   "pygments_lexer": "ipython2",
   "version": "2.7.6"
  }
 },
 "nbformat": 4,
 "nbformat_minor": 0
}