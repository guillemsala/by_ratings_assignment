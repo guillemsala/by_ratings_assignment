{
 "cells": [
  {
   "cell_type": "code",
   "execution_count": 1,
   "outputs": [],
   "source": [
    "# Import DS tools\n",
    "import pandas as pd\n",
    "\n",
    "# Import project specific functions\n",
    "from scripts import data\n",
    "\n",
    "# Import data\n",
    "data_dict = data.get_clean_data_dict()\n",
    "purchases = data_dict['purchases']\n",
    "users = data_dict['users']"
   ],
   "metadata": {
    "collapsed": false,
    "pycharm": {
     "name": "#%%\n"
    }
   }
  },
  {
   "cell_type": "markdown",
   "source": [
    "### Target data-frame analysis and munging\n",
    "Our goal is to predict the value of the purchases each `user_id` will perform at a given date. For that reason, we start by fixing the data-frame so that it is given in\n",
    "the format $t|i_1|\\cdots|i_N$, where $t$ is the time (with a daily granularity), $i_k$ contains the amount the $k$-th user_id spent, and $N$ is the total number of user_id."
   ],
   "metadata": {
    "collapsed": false
   }
  },
  {
   "cell_type": "code",
   "execution_count": 2,
   "outputs": [
    {
     "data": {
      "text/plain": "             30_1690   30_2020   30_2022   30_2023    75_181    78_945  \\\n2017-08-12  0.472902  0.000000  0.000000  0.000000  0.000000  0.000000   \n2017-08-13  0.000000  0.000000  0.000000  0.000000  0.000000  0.000000   \n2017-08-14  0.000000  1.212912  0.651416  0.951341  0.948683  0.437971   \n2017-08-15  0.000000  0.000000  0.000000  0.000000  0.000000  0.000000   \n2017-08-16  0.000000  0.000000  0.000000  0.000000  0.000000  0.000000   \n...              ...       ...       ...       ...       ...       ...   \n2021-08-07  0.000000  0.000000  0.000000  0.000000  0.000000  0.000000   \n2021-08-08  0.000000  0.000000  0.000000  0.000000  0.000000  0.000000   \n2021-08-09  0.000000  0.000000  0.000000  0.000000  0.000000  0.000000   \n2021-08-10  0.000000  0.000000  0.000000  0.000000  0.000000  0.000000   \n2021-08-11  0.000000  0.000000  0.000000  0.000000  0.000000  0.000000   \n\n             30_1577   30_2031  78_1850  30_1760  ...   87   88   89   93  \\\n2017-08-12  0.000000  0.000000      0.0      0.0  ...  0.0  0.0  0.0  0.0   \n2017-08-13  0.000000  0.000000      0.0      0.0  ...  0.0  0.0  0.0  0.0   \n2017-08-14  0.000000  0.000000      0.0      0.0  ...  0.0  0.0  0.0  0.0   \n2017-08-15  0.000000  0.000000      0.0      0.0  ...  0.0  0.0  0.0  0.0   \n2017-08-16  0.476731  0.476837      0.0      0.0  ...  0.0  0.0  0.0  0.0   \n...              ...       ...      ...      ...  ...  ...  ...  ...  ...   \n2021-08-07  0.000000  0.000000      0.0      0.0  ...  0.0  0.0  0.0  0.0   \n2021-08-08  0.000000  0.000000      0.0      0.0  ...  0.0  0.0  0.0  0.0   \n2021-08-09  0.000000  0.000000      0.0      0.0  ...  0.0  0.0  0.0  0.0   \n2021-08-10  0.000000  0.000000      0.0      0.0  ...  0.0  0.0  0.0  0.0   \n2021-08-11  0.000000  0.000000      0.0      0.0  ...  0.0  0.0  0.0  0.0   \n\n             94   95   96   97   99      total  \n2017-08-12  0.0  0.0  0.0  0.0  0.0   0.472902  \n2017-08-13  0.0  0.0  0.0  0.0  0.0   0.000000  \n2017-08-14  0.0  0.0  0.0  0.0  0.0   4.202323  \n2017-08-15  0.0  0.0  0.0  0.0  0.0   0.000000  \n2017-08-16  0.0  0.0  0.0  0.0  0.0   0.953569  \n...         ...  ...  ...  ...  ...        ...  \n2021-08-07  0.0  0.0  0.0  0.0  0.0  52.802193  \n2021-08-08  0.0  0.0  0.0  0.0  0.0  62.271813  \n2021-08-09  0.0  0.0  0.0  0.0  0.0  49.594107  \n2021-08-10  0.0  0.0  0.0  0.0  0.0  56.233659  \n2021-08-11  0.0  0.0  0.0  0.0  0.0  48.750544  \n\n[1461 rows x 44683 columns]",
      "text/html": "<div>\n<style scoped>\n    .dataframe tbody tr th:only-of-type {\n        vertical-align: middle;\n    }\n\n    .dataframe tbody tr th {\n        vertical-align: top;\n    }\n\n    .dataframe thead th {\n        text-align: right;\n    }\n</style>\n<table border=\"1\" class=\"dataframe\">\n  <thead>\n    <tr style=\"text-align: right;\">\n      <th></th>\n      <th>30_1690</th>\n      <th>30_2020</th>\n      <th>30_2022</th>\n      <th>30_2023</th>\n      <th>75_181</th>\n      <th>78_945</th>\n      <th>30_1577</th>\n      <th>30_2031</th>\n      <th>78_1850</th>\n      <th>30_1760</th>\n      <th>...</th>\n      <th>87</th>\n      <th>88</th>\n      <th>89</th>\n      <th>93</th>\n      <th>94</th>\n      <th>95</th>\n      <th>96</th>\n      <th>97</th>\n      <th>99</th>\n      <th>total</th>\n    </tr>\n  </thead>\n  <tbody>\n    <tr>\n      <th>2017-08-12</th>\n      <td>0.472902</td>\n      <td>0.000000</td>\n      <td>0.000000</td>\n      <td>0.000000</td>\n      <td>0.000000</td>\n      <td>0.000000</td>\n      <td>0.000000</td>\n      <td>0.000000</td>\n      <td>0.0</td>\n      <td>0.0</td>\n      <td>...</td>\n      <td>0.0</td>\n      <td>0.0</td>\n      <td>0.0</td>\n      <td>0.0</td>\n      <td>0.0</td>\n      <td>0.0</td>\n      <td>0.0</td>\n      <td>0.0</td>\n      <td>0.0</td>\n      <td>0.472902</td>\n    </tr>\n    <tr>\n      <th>2017-08-13</th>\n      <td>0.000000</td>\n      <td>0.000000</td>\n      <td>0.000000</td>\n      <td>0.000000</td>\n      <td>0.000000</td>\n      <td>0.000000</td>\n      <td>0.000000</td>\n      <td>0.000000</td>\n      <td>0.0</td>\n      <td>0.0</td>\n      <td>...</td>\n      <td>0.0</td>\n      <td>0.0</td>\n      <td>0.0</td>\n      <td>0.0</td>\n      <td>0.0</td>\n      <td>0.0</td>\n      <td>0.0</td>\n      <td>0.0</td>\n      <td>0.0</td>\n      <td>0.000000</td>\n    </tr>\n    <tr>\n      <th>2017-08-14</th>\n      <td>0.000000</td>\n      <td>1.212912</td>\n      <td>0.651416</td>\n      <td>0.951341</td>\n      <td>0.948683</td>\n      <td>0.437971</td>\n      <td>0.000000</td>\n      <td>0.000000</td>\n      <td>0.0</td>\n      <td>0.0</td>\n      <td>...</td>\n      <td>0.0</td>\n      <td>0.0</td>\n      <td>0.0</td>\n      <td>0.0</td>\n      <td>0.0</td>\n      <td>0.0</td>\n      <td>0.0</td>\n      <td>0.0</td>\n      <td>0.0</td>\n      <td>4.202323</td>\n    </tr>\n    <tr>\n      <th>2017-08-15</th>\n      <td>0.000000</td>\n      <td>0.000000</td>\n      <td>0.000000</td>\n      <td>0.000000</td>\n      <td>0.000000</td>\n      <td>0.000000</td>\n      <td>0.000000</td>\n      <td>0.000000</td>\n      <td>0.0</td>\n      <td>0.0</td>\n      <td>...</td>\n      <td>0.0</td>\n      <td>0.0</td>\n      <td>0.0</td>\n      <td>0.0</td>\n      <td>0.0</td>\n      <td>0.0</td>\n      <td>0.0</td>\n      <td>0.0</td>\n      <td>0.0</td>\n      <td>0.000000</td>\n    </tr>\n    <tr>\n      <th>2017-08-16</th>\n      <td>0.000000</td>\n      <td>0.000000</td>\n      <td>0.000000</td>\n      <td>0.000000</td>\n      <td>0.000000</td>\n      <td>0.000000</td>\n      <td>0.476731</td>\n      <td>0.476837</td>\n      <td>0.0</td>\n      <td>0.0</td>\n      <td>...</td>\n      <td>0.0</td>\n      <td>0.0</td>\n      <td>0.0</td>\n      <td>0.0</td>\n      <td>0.0</td>\n      <td>0.0</td>\n      <td>0.0</td>\n      <td>0.0</td>\n      <td>0.0</td>\n      <td>0.953569</td>\n    </tr>\n    <tr>\n      <th>...</th>\n      <td>...</td>\n      <td>...</td>\n      <td>...</td>\n      <td>...</td>\n      <td>...</td>\n      <td>...</td>\n      <td>...</td>\n      <td>...</td>\n      <td>...</td>\n      <td>...</td>\n      <td>...</td>\n      <td>...</td>\n      <td>...</td>\n      <td>...</td>\n      <td>...</td>\n      <td>...</td>\n      <td>...</td>\n      <td>...</td>\n      <td>...</td>\n      <td>...</td>\n      <td>...</td>\n    </tr>\n    <tr>\n      <th>2021-08-07</th>\n      <td>0.000000</td>\n      <td>0.000000</td>\n      <td>0.000000</td>\n      <td>0.000000</td>\n      <td>0.000000</td>\n      <td>0.000000</td>\n      <td>0.000000</td>\n      <td>0.000000</td>\n      <td>0.0</td>\n      <td>0.0</td>\n      <td>...</td>\n      <td>0.0</td>\n      <td>0.0</td>\n      <td>0.0</td>\n      <td>0.0</td>\n      <td>0.0</td>\n      <td>0.0</td>\n      <td>0.0</td>\n      <td>0.0</td>\n      <td>0.0</td>\n      <td>52.802193</td>\n    </tr>\n    <tr>\n      <th>2021-08-08</th>\n      <td>0.000000</td>\n      <td>0.000000</td>\n      <td>0.000000</td>\n      <td>0.000000</td>\n      <td>0.000000</td>\n      <td>0.000000</td>\n      <td>0.000000</td>\n      <td>0.000000</td>\n      <td>0.0</td>\n      <td>0.0</td>\n      <td>...</td>\n      <td>0.0</td>\n      <td>0.0</td>\n      <td>0.0</td>\n      <td>0.0</td>\n      <td>0.0</td>\n      <td>0.0</td>\n      <td>0.0</td>\n      <td>0.0</td>\n      <td>0.0</td>\n      <td>62.271813</td>\n    </tr>\n    <tr>\n      <th>2021-08-09</th>\n      <td>0.000000</td>\n      <td>0.000000</td>\n      <td>0.000000</td>\n      <td>0.000000</td>\n      <td>0.000000</td>\n      <td>0.000000</td>\n      <td>0.000000</td>\n      <td>0.000000</td>\n      <td>0.0</td>\n      <td>0.0</td>\n      <td>...</td>\n      <td>0.0</td>\n      <td>0.0</td>\n      <td>0.0</td>\n      <td>0.0</td>\n      <td>0.0</td>\n      <td>0.0</td>\n      <td>0.0</td>\n      <td>0.0</td>\n      <td>0.0</td>\n      <td>49.594107</td>\n    </tr>\n    <tr>\n      <th>2021-08-10</th>\n      <td>0.000000</td>\n      <td>0.000000</td>\n      <td>0.000000</td>\n      <td>0.000000</td>\n      <td>0.000000</td>\n      <td>0.000000</td>\n      <td>0.000000</td>\n      <td>0.000000</td>\n      <td>0.0</td>\n      <td>0.0</td>\n      <td>...</td>\n      <td>0.0</td>\n      <td>0.0</td>\n      <td>0.0</td>\n      <td>0.0</td>\n      <td>0.0</td>\n      <td>0.0</td>\n      <td>0.0</td>\n      <td>0.0</td>\n      <td>0.0</td>\n      <td>56.233659</td>\n    </tr>\n    <tr>\n      <th>2021-08-11</th>\n      <td>0.000000</td>\n      <td>0.000000</td>\n      <td>0.000000</td>\n      <td>0.000000</td>\n      <td>0.000000</td>\n      <td>0.000000</td>\n      <td>0.000000</td>\n      <td>0.000000</td>\n      <td>0.0</td>\n      <td>0.0</td>\n      <td>...</td>\n      <td>0.0</td>\n      <td>0.0</td>\n      <td>0.0</td>\n      <td>0.0</td>\n      <td>0.0</td>\n      <td>0.0</td>\n      <td>0.0</td>\n      <td>0.0</td>\n      <td>0.0</td>\n      <td>48.750544</td>\n    </tr>\n  </tbody>\n</table>\n<p>1461 rows × 44683 columns</p>\n</div>"
     },
     "execution_count": 2,
     "metadata": {},
     "output_type": "execute_result"
    }
   ],
   "source": [
    "# Merge purchases and users\n",
    "merged_df = pd.merge(\n",
    "    purchases,\n",
    "    users\n",
    ")[['user_id', 'purchased_at', 'value', 'orig_1']]\n",
    "# Fix target categorical cols\n",
    "merged_df['user_id'] = merged_df.user_id.fillna(-1).astype(int).astype(str)\n",
    "merged_df['orig_1'] = merged_df.orig_1.fillna(-1).astype(int).astype(str)\n",
    "merged_df['t'] = merged_df.purchased_at.dt.date\n",
    "\n",
    "# Create hierarchy,\n",
    "# - First creating top\n",
    "hierarchy = {\n",
    "    'total': merged_df.orig_1.unique().tolist()\n",
    "}\n",
    "# - Then for each possible origin, getting possible unique user_ids\n",
    "for orig_1 in merged_df.orig_1.unique():\n",
    "    hierarchy[orig_1] = merged_df[merged_df.orig_1 == orig_1].user_id.unique().tolist()\n",
    "    hierarchy[orig_1] = [orig_1 + '_' + user_id for user_id in hierarchy[orig_1]]\n",
    "\n",
    "# Create Y in scikit-hts format,\n",
    "# - first creating bottom time series:\n",
    "Y_bottom = merged_df.groupby(\n",
    "    ['t', 'orig_1', 'user_id']\n",
    ").value.sum().reset_index().pivot(\n",
    "    index='t',\n",
    "    columns=['orig_1', 'user_id'],\n",
    "    values='value'\n",
    ")\n",
    "Y_bottom = Y_bottom.reindex(\n",
    "    pd.date_range(\n",
    "        start=Y_bottom.index.min(),\n",
    "        end=Y_bottom.index.max(),\n",
    "        freq='1d'\n",
    "    )\n",
    ").fillna(0)\n",
    "Y_bottom.columns = [\"_\".join(cols) for cols in Y_bottom.columns]\n",
    "# - then middle - origin_1 - columns\n",
    "Y_mid = merged_df.groupby(\n",
    "    ['t', 'orig_1']\n",
    ").value.sum().reset_index().pivot(\n",
    "    index='t',\n",
    "    columns=['orig_1'],\n",
    "    values='value'\n",
    ").reindex(\n",
    "    pd.date_range(\n",
    "        start=Y_bottom.index.min(),\n",
    "        end=Y_bottom.index.max(),\n",
    "        freq='1d'\n",
    "    )\n",
    ").fillna(0)\n",
    "# finally total\n",
    "Y_total = Y_mid.sum(axis=1).rename('total')\n",
    "# and concatenating all of them\n",
    "Y = pd.concat(\n",
    "    (Y_bottom, Y_mid, Y_total), axis=1\n",
    ")\n",
    "Y"
   ],
   "metadata": {
    "collapsed": false,
    "pycharm": {
     "name": "#%%\n"
    }
   }
  },
  {
   "cell_type": "code",
   "execution_count": null,
   "outputs": [],
   "source": [
    "from hts.hierarchy import HierarchyTree\n",
    "\n",
    "# Create hierarchy tree\n",
    "tree = HierarchyTree.from_nodes(\n",
    "    nodes=hierarchy,\n",
    "    df=Y\n",
    ")\n",
    "from hts import HTSRegressor\n",
    "\n",
    "clf = HTSRegressor(model='arima', revision_method='WLSV', low_memory=True, n_jobs=4)\n",
    "model = clf.fit(Y, hierarchy)"
   ],
   "metadata": {
    "collapsed": false,
    "pycharm": {
     "name": "#%%\n",
     "is_executing": true
    }
   }
  },
  {
   "cell_type": "code",
   "execution_count": null,
   "outputs": [],
   "source": [],
   "metadata": {
    "collapsed": false,
    "pycharm": {
     "name": "#%%\n"
    }
   }
  }
 ],
 "metadata": {
  "kernelspec": {
   "display_name": "Python 3",
   "language": "python",
   "name": "python3"
  },
  "language_info": {
   "codemirror_mode": {
    "name": "ipython",
    "version": 2
   },
   "file_extension": ".py",
   "mimetype": "text/x-python",
   "name": "python",
   "nbconvert_exporter": "python",
   "pygments_lexer": "ipython2",
   "version": "2.7.6"
  }
 },
 "nbformat": 4,
 "nbformat_minor": 0
}