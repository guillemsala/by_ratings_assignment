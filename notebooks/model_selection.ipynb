{
 "cells": [
  {
   "cell_type": "code",
   "execution_count": 1,
   "outputs": [],
   "source": [
    "# Import DS tools\n",
    "im\n",
    "\n",
    "# Import project specific functions\n",
    "from scripts import data\n",
    "# Import data\n",
    "data_dict = data.get_clean_data_dict()\n",
    "purchases = data_dict['purchases']\n",
    "users = data_dict['users']"
   ],
   "metadata": {
    "collapsed": false,
    "pycharm": {
     "name": "#%%\n"
    }
   }
  },
  {
   "cell_type": "markdown",
   "source": [
    "### Target data-frame analysis and munging\n",
    "Our goal is to predict the value of the purchases each `user_id` will perform at a given date. For that reason, we start by fixing the data-frame so that it is given in\n",
    "the format $t|i_1|\\cdots|i_N$, where $t$ is the time (with a daily granularity), $i_k$ contains the amount the $k$-th user_id spent, and $N$ is the total number of user_id."
   ],
   "metadata": {
    "collapsed": false
   }
  },
  {
   "cell_type": "code",
   "execution_count": null,
   "outputs": [],
   "source": [
    "merged_df = pd.merge(\n",
    "    purchases,\n",
    "    users\n",
    ")[['user_id', 'purchased_at', 'value', 'orig_1']]\n",
    "merged_df['user_id'] = merged_df.user_id.fillna(-1).astype(int).astype(str)\n",
    "merged_df['orig_1'] = merged_df.orig_1.fillna(-1).astype(int).astype(str)\n",
    "merged_df['t'] = merged_df.purchased_at.dt.date\n",
    "\n",
    "hierarchy = {\n",
    "    'total': merged_df.orig_1.unique().tolist()\n",
    "}\n",
    "for orig_1 in merged_df.orig_1.unique():\n",
    "    hierarchy[orig_1] = merged_df[merged_df.orig_1 == orig_1].user_id.unique().tolist()\n",
    "    hierarchy[orig_1] = [orig_1 + '_' + user_id for user_id in hierarchy[orig_1]]\n",
    "\n",
    "from hts import HTSRegressor\n",
    "\n",
    "Y_bottom = merged_df.groupby(\n",
    "    ['t', 'orig_1', 'user_id']\n",
    ").value.sum().reset_index().pivot(\n",
    "    index='t',\n",
    "    columns=['orig_1', 'user_id'],\n",
    "    values='value'\n",
    ")\n",
    "Y_bottom = Y_bottom.reindex(\n",
    "    pd.date_range(\n",
    "        start=Y_bottom.index.min(),\n",
    "        end=Y_bottom.index.max(),\n",
    "        freq='1d'\n",
    "    )\n",
    ").fillna(0)\n",
    "Y_bottom.columns = [\"_\".join(cols) for cols in Y_bottom.columns]\n",
    "Y_mid = merged_df.groupby(\n",
    "    ['t', 'orig_1']\n",
    ").value.sum().reset_index().pivot(\n",
    "    index='t',\n",
    "    columns=['orig_1'],\n",
    "    values='value'\n",
    ").reindex(\n",
    "    pd.date_range(\n",
    "        start=Y_bottom.index.min(),\n",
    "        end=Y_bottom.index.max(),\n",
    "        freq='1d'\n",
    "    )\n",
    ").fillna(0)\n",
    "Y_total = Y_mid.sum(axis=1).rename('total')\n",
    "Y = pd.concat(\n",
    "    (Y_bottom, Y_mid, Y_total), axis=1\n",
    ")\n",
    "Y\n",
    "from hts.hierarchy import HierarchyTree\n",
    "\n",
    "tree = HierarchyTree.from_nodes(\n",
    "    nodes=hierarchy,\n",
    "    df=Y\n",
    ")\n",
    "print(tree)\n",
    "from hts import HTSRegressor\n",
    "\n",
    "clf = HTSRegressor(model='arima', revision_method='OLS', n_jobs=-1)\n",
    "model = clf.fit(Y, hierarchy)"
   ],
   "metadata": {
    "collapsed": false,
    "pycharm": {
     "name": "#%%\n"
    }
   }
  }
 ],
 "metadata": {
  "kernelspec": {
   "display_name": "Python 3",
   "language": "python",
   "name": "python3"
  },
  "language_info": {
   "codemirror_mode": {
    "name": "ipython",
    "version": 2
   },
   "file_extension": ".py",
   "mimetype": "text/x-python",
   "name": "python",
   "nbconvert_exporter": "python",
   "pygments_lexer": "ipython2",
   "version": "2.7.6"
  }
 },
 "nbformat": 4,
 "nbformat_minor": 0
}