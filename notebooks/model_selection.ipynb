{
 "cells": [
  {
   "cell_type": "code",
   "execution_count": 1,
   "outputs": [],
   "source": [
    "# Import DS tools\n",
    "import pandas as pd\n",
    "\n",
    "# Import project specific functions\n",
    "from scripts import data\n",
    "\n",
    "# Import data\n",
    "data_dict = data.get_clean_data_dict()\n",
    "purchases = data_dict['purchases']\n",
    "users = data_dict['users']"
   ],
   "metadata": {
    "collapsed": false,
    "pycharm": {
     "name": "#%%\n"
    }
   }
  },
  {
   "cell_type": "markdown",
   "source": [
    "### Featiure engineering\n",
    "Our goal is to predict the value of the purchases each `user_id` will perform at a given date. For that reason, we start by fixing the data-frame so that it is given in\n",
    "the format $t|i_1|\\cdots|i_N$, where $t$ is the time (with a daily granularity), $i_k$ contains the amount the $k$-th user_id spent, and $N$ is the total number of user_id."
   ],
   "metadata": {
    "collapsed": false
   }
  },
  {
   "cell_type": "code",
   "execution_count": 2,
   "outputs": [
    {
     "data": {
      "text/plain": "            user_id_1003  user_id_10044  user_id_10055  user_id_1010  \\\nt                                                                      \n2017-08-12      0.000000       0.000000       0.000000      0.000000   \n2017-11-10      0.000000       0.000000       0.000000      0.000000   \n2018-02-08      0.000000       0.000000       0.000000      0.000000   \n2018-05-09      0.501009       0.000000       0.000000      0.000000   \n2018-08-07      0.459138       0.000000       0.000000      0.000000   \n2018-11-05      1.186296       0.000000       0.000000      0.000000   \n2019-02-03      0.000000       0.498179       0.466342      0.000000   \n2019-05-04      2.511606       0.000000       0.000000      0.000000   \n2019-08-02      0.000000       0.000000       0.000000      1.549193   \n2019-10-31      0.000000       0.000000       0.000000      0.000000   \n2020-01-29      0.000000       0.000000       0.000000      0.000000   \n2020-04-28      0.000000       0.421757       0.000000      0.000000   \n2020-07-27      0.000000       0.000000       0.000000      0.000000   \n2020-10-25      0.000000       0.000000       0.000000      0.000000   \n2021-01-23      0.000000       0.000000       0.000000      0.000000   \n2021-04-23      0.000000       0.000000       0.000000      0.000000   \n2021-07-22      0.000000       0.000000       0.000000      0.000000   \n\n            user_id_10110  user_id_10143  user_id_10144  user_id_10156  \\\nt                                                                        \n2017-08-12       0.000000       0.000000       0.000000       0.000000   \n2017-11-10       0.000000       0.000000       0.000000       0.000000   \n2018-02-08       0.000000       0.000000       0.000000       0.000000   \n2018-05-09       0.000000       0.000000       0.000000       0.000000   \n2018-08-07       0.000000       0.000000       0.000000       0.000000   \n2018-11-05       0.000000       0.000000       0.000000       0.000000   \n2019-02-03       0.387298       1.432865       0.412555       0.475033   \n2019-05-04       0.000000       0.000000       0.000000       0.000000   \n2019-08-02       0.000000       0.000000       0.000000       0.000000   \n2019-10-31       0.000000       0.000000       0.000000       0.000000   \n2020-01-29       0.000000       0.000000       0.000000       0.000000   \n2020-04-28       0.401261       0.000000       0.000000       0.000000   \n2020-07-27       0.000000       0.000000       0.000000       0.000000   \n2020-10-25       0.000000       0.000000       0.000000       0.000000   \n2021-01-23       0.000000       0.000000       0.000000       0.000000   \n2021-04-23       0.837262       0.000000       0.000000       0.000000   \n2021-07-22       0.000000       0.000000       0.000000       0.000000   \n\n            user_id_10162  user_id_10187  ...  user_id_99869  user_id_99881  \\\nt                                         ...                                 \n2017-08-12       0.000000       0.000000  ...        0.00000       0.000000   \n2017-11-10       0.000000       0.000000  ...        0.00000       0.000000   \n2018-02-08       0.000000       0.000000  ...        0.00000       0.000000   \n2018-05-09       0.000000       0.000000  ...        0.00000       0.000000   \n2018-08-07       0.000000       0.000000  ...        0.00000       0.000000   \n2018-11-05       0.000000       0.000000  ...        0.00000       0.000000   \n2019-02-03       0.880083       0.493902  ...        0.00000       0.000000   \n2019-05-04       3.070007       0.000000  ...        0.00000       0.000000   \n2019-08-02       0.000000       0.000000  ...        0.00000       0.000000   \n2019-10-31       0.000000       0.000000  ...        0.00000       0.000000   \n2020-01-29       0.374705       0.000000  ...        0.00000       0.000000   \n2020-04-28       3.808435       0.000000  ...        0.00000       0.000000   \n2020-07-27       0.000000       0.000000  ...        0.00000       0.000000   \n2020-10-25       0.000000       0.000000  ...        0.00000       0.000000   \n2021-01-23       0.471512       0.000000  ...        0.00000       0.000000   \n2021-04-23       1.261960       0.000000  ...        0.00000       0.000000   \n2021-07-22       0.000000       0.000000  ...        0.48315       0.421158   \n\n            user_id_9990  user_id_99927  user_id_99946  user_id_99948  \\\nt                                                                       \n2017-08-12      0.000000       0.000000       0.000000       0.000000   \n2017-11-10      0.000000       0.000000       0.000000       0.000000   \n2018-02-08      0.000000       0.000000       0.000000       0.000000   \n2018-05-09      0.000000       0.000000       0.000000       0.000000   \n2018-08-07      0.000000       0.000000       0.000000       0.000000   \n2018-11-05      0.000000       0.000000       0.000000       0.000000   \n2019-02-03      0.387298       0.000000       0.000000       0.000000   \n2019-05-04      0.000000       0.000000       0.000000       0.000000   \n2019-08-02      0.000000       0.000000       0.000000       0.000000   \n2019-10-31      0.000000       0.000000       0.000000       0.000000   \n2020-01-29      0.000000       0.000000       0.000000       0.000000   \n2020-04-28      0.000000       0.000000       0.000000       0.000000   \n2020-07-27      0.000000       0.000000       0.000000       0.000000   \n2020-10-25      0.000000       0.000000       0.000000       0.000000   \n2021-01-23      0.000000       0.000000       0.000000       0.000000   \n2021-04-23      0.000000       0.000000       0.000000       0.000000   \n2021-07-22      0.000000       0.448792       0.448792       0.706106   \n\n            user_id_99950  user_id_99976  user_id_99979  user_id_99983  \nt                                                                       \n2017-08-12       0.000000       0.000000       0.000000       0.000000  \n2017-11-10       0.000000       0.000000       0.000000       0.000000  \n2018-02-08       0.000000       0.000000       0.000000       0.000000  \n2018-05-09       0.000000       0.000000       0.000000       0.000000  \n2018-08-07       0.000000       0.000000       0.000000       0.000000  \n2018-11-05       0.000000       0.000000       0.000000       0.000000  \n2019-02-03       0.000000       0.000000       0.000000       0.000000  \n2019-05-04       0.000000       0.000000       0.000000       0.000000  \n2019-08-02       0.000000       0.000000       0.000000       0.000000  \n2019-10-31       0.000000       0.000000       0.000000       0.000000  \n2020-01-29       0.000000       0.000000       0.000000       0.000000  \n2020-04-28       0.000000       0.000000       0.000000       0.000000  \n2020-07-27       0.000000       0.000000       0.000000       0.000000  \n2020-10-25       0.000000       0.000000       0.000000       0.000000  \n2021-01-23       0.000000       0.000000       0.000000       0.000000  \n2021-04-23       0.000000       0.000000       0.000000       0.000000  \n2021-07-22       0.438201       0.448792       0.369548       0.448792  \n\n[17 rows x 6686 columns]",
      "text/html": "<div>\n<style scoped>\n    .dataframe tbody tr th:only-of-type {\n        vertical-align: middle;\n    }\n\n    .dataframe tbody tr th {\n        vertical-align: top;\n    }\n\n    .dataframe thead th {\n        text-align: right;\n    }\n</style>\n<table border=\"1\" class=\"dataframe\">\n  <thead>\n    <tr style=\"text-align: right;\">\n      <th></th>\n      <th>user_id_1003</th>\n      <th>user_id_10044</th>\n      <th>user_id_10055</th>\n      <th>user_id_1010</th>\n      <th>user_id_10110</th>\n      <th>user_id_10143</th>\n      <th>user_id_10144</th>\n      <th>user_id_10156</th>\n      <th>user_id_10162</th>\n      <th>user_id_10187</th>\n      <th>...</th>\n      <th>user_id_99869</th>\n      <th>user_id_99881</th>\n      <th>user_id_9990</th>\n      <th>user_id_99927</th>\n      <th>user_id_99946</th>\n      <th>user_id_99948</th>\n      <th>user_id_99950</th>\n      <th>user_id_99976</th>\n      <th>user_id_99979</th>\n      <th>user_id_99983</th>\n    </tr>\n    <tr>\n      <th>t</th>\n      <th></th>\n      <th></th>\n      <th></th>\n      <th></th>\n      <th></th>\n      <th></th>\n      <th></th>\n      <th></th>\n      <th></th>\n      <th></th>\n      <th></th>\n      <th></th>\n      <th></th>\n      <th></th>\n      <th></th>\n      <th></th>\n      <th></th>\n      <th></th>\n      <th></th>\n      <th></th>\n      <th></th>\n    </tr>\n  </thead>\n  <tbody>\n    <tr>\n      <th>2017-08-12</th>\n      <td>0.000000</td>\n      <td>0.000000</td>\n      <td>0.000000</td>\n      <td>0.000000</td>\n      <td>0.000000</td>\n      <td>0.000000</td>\n      <td>0.000000</td>\n      <td>0.000000</td>\n      <td>0.000000</td>\n      <td>0.000000</td>\n      <td>...</td>\n      <td>0.00000</td>\n      <td>0.000000</td>\n      <td>0.000000</td>\n      <td>0.000000</td>\n      <td>0.000000</td>\n      <td>0.000000</td>\n      <td>0.000000</td>\n      <td>0.000000</td>\n      <td>0.000000</td>\n      <td>0.000000</td>\n    </tr>\n    <tr>\n      <th>2017-11-10</th>\n      <td>0.000000</td>\n      <td>0.000000</td>\n      <td>0.000000</td>\n      <td>0.000000</td>\n      <td>0.000000</td>\n      <td>0.000000</td>\n      <td>0.000000</td>\n      <td>0.000000</td>\n      <td>0.000000</td>\n      <td>0.000000</td>\n      <td>...</td>\n      <td>0.00000</td>\n      <td>0.000000</td>\n      <td>0.000000</td>\n      <td>0.000000</td>\n      <td>0.000000</td>\n      <td>0.000000</td>\n      <td>0.000000</td>\n      <td>0.000000</td>\n      <td>0.000000</td>\n      <td>0.000000</td>\n    </tr>\n    <tr>\n      <th>2018-02-08</th>\n      <td>0.000000</td>\n      <td>0.000000</td>\n      <td>0.000000</td>\n      <td>0.000000</td>\n      <td>0.000000</td>\n      <td>0.000000</td>\n      <td>0.000000</td>\n      <td>0.000000</td>\n      <td>0.000000</td>\n      <td>0.000000</td>\n      <td>...</td>\n      <td>0.00000</td>\n      <td>0.000000</td>\n      <td>0.000000</td>\n      <td>0.000000</td>\n      <td>0.000000</td>\n      <td>0.000000</td>\n      <td>0.000000</td>\n      <td>0.000000</td>\n      <td>0.000000</td>\n      <td>0.000000</td>\n    </tr>\n    <tr>\n      <th>2018-05-09</th>\n      <td>0.501009</td>\n      <td>0.000000</td>\n      <td>0.000000</td>\n      <td>0.000000</td>\n      <td>0.000000</td>\n      <td>0.000000</td>\n      <td>0.000000</td>\n      <td>0.000000</td>\n      <td>0.000000</td>\n      <td>0.000000</td>\n      <td>...</td>\n      <td>0.00000</td>\n      <td>0.000000</td>\n      <td>0.000000</td>\n      <td>0.000000</td>\n      <td>0.000000</td>\n      <td>0.000000</td>\n      <td>0.000000</td>\n      <td>0.000000</td>\n      <td>0.000000</td>\n      <td>0.000000</td>\n    </tr>\n    <tr>\n      <th>2018-08-07</th>\n      <td>0.459138</td>\n      <td>0.000000</td>\n      <td>0.000000</td>\n      <td>0.000000</td>\n      <td>0.000000</td>\n      <td>0.000000</td>\n      <td>0.000000</td>\n      <td>0.000000</td>\n      <td>0.000000</td>\n      <td>0.000000</td>\n      <td>...</td>\n      <td>0.00000</td>\n      <td>0.000000</td>\n      <td>0.000000</td>\n      <td>0.000000</td>\n      <td>0.000000</td>\n      <td>0.000000</td>\n      <td>0.000000</td>\n      <td>0.000000</td>\n      <td>0.000000</td>\n      <td>0.000000</td>\n    </tr>\n    <tr>\n      <th>2018-11-05</th>\n      <td>1.186296</td>\n      <td>0.000000</td>\n      <td>0.000000</td>\n      <td>0.000000</td>\n      <td>0.000000</td>\n      <td>0.000000</td>\n      <td>0.000000</td>\n      <td>0.000000</td>\n      <td>0.000000</td>\n      <td>0.000000</td>\n      <td>...</td>\n      <td>0.00000</td>\n      <td>0.000000</td>\n      <td>0.000000</td>\n      <td>0.000000</td>\n      <td>0.000000</td>\n      <td>0.000000</td>\n      <td>0.000000</td>\n      <td>0.000000</td>\n      <td>0.000000</td>\n      <td>0.000000</td>\n    </tr>\n    <tr>\n      <th>2019-02-03</th>\n      <td>0.000000</td>\n      <td>0.498179</td>\n      <td>0.466342</td>\n      <td>0.000000</td>\n      <td>0.387298</td>\n      <td>1.432865</td>\n      <td>0.412555</td>\n      <td>0.475033</td>\n      <td>0.880083</td>\n      <td>0.493902</td>\n      <td>...</td>\n      <td>0.00000</td>\n      <td>0.000000</td>\n      <td>0.387298</td>\n      <td>0.000000</td>\n      <td>0.000000</td>\n      <td>0.000000</td>\n      <td>0.000000</td>\n      <td>0.000000</td>\n      <td>0.000000</td>\n      <td>0.000000</td>\n    </tr>\n    <tr>\n      <th>2019-05-04</th>\n      <td>2.511606</td>\n      <td>0.000000</td>\n      <td>0.000000</td>\n      <td>0.000000</td>\n      <td>0.000000</td>\n      <td>0.000000</td>\n      <td>0.000000</td>\n      <td>0.000000</td>\n      <td>3.070007</td>\n      <td>0.000000</td>\n      <td>...</td>\n      <td>0.00000</td>\n      <td>0.000000</td>\n      <td>0.000000</td>\n      <td>0.000000</td>\n      <td>0.000000</td>\n      <td>0.000000</td>\n      <td>0.000000</td>\n      <td>0.000000</td>\n      <td>0.000000</td>\n      <td>0.000000</td>\n    </tr>\n    <tr>\n      <th>2019-08-02</th>\n      <td>0.000000</td>\n      <td>0.000000</td>\n      <td>0.000000</td>\n      <td>1.549193</td>\n      <td>0.000000</td>\n      <td>0.000000</td>\n      <td>0.000000</td>\n      <td>0.000000</td>\n      <td>0.000000</td>\n      <td>0.000000</td>\n      <td>...</td>\n      <td>0.00000</td>\n      <td>0.000000</td>\n      <td>0.000000</td>\n      <td>0.000000</td>\n      <td>0.000000</td>\n      <td>0.000000</td>\n      <td>0.000000</td>\n      <td>0.000000</td>\n      <td>0.000000</td>\n      <td>0.000000</td>\n    </tr>\n    <tr>\n      <th>2019-10-31</th>\n      <td>0.000000</td>\n      <td>0.000000</td>\n      <td>0.000000</td>\n      <td>0.000000</td>\n      <td>0.000000</td>\n      <td>0.000000</td>\n      <td>0.000000</td>\n      <td>0.000000</td>\n      <td>0.000000</td>\n      <td>0.000000</td>\n      <td>...</td>\n      <td>0.00000</td>\n      <td>0.000000</td>\n      <td>0.000000</td>\n      <td>0.000000</td>\n      <td>0.000000</td>\n      <td>0.000000</td>\n      <td>0.000000</td>\n      <td>0.000000</td>\n      <td>0.000000</td>\n      <td>0.000000</td>\n    </tr>\n    <tr>\n      <th>2020-01-29</th>\n      <td>0.000000</td>\n      <td>0.000000</td>\n      <td>0.000000</td>\n      <td>0.000000</td>\n      <td>0.000000</td>\n      <td>0.000000</td>\n      <td>0.000000</td>\n      <td>0.000000</td>\n      <td>0.374705</td>\n      <td>0.000000</td>\n      <td>...</td>\n      <td>0.00000</td>\n      <td>0.000000</td>\n      <td>0.000000</td>\n      <td>0.000000</td>\n      <td>0.000000</td>\n      <td>0.000000</td>\n      <td>0.000000</td>\n      <td>0.000000</td>\n      <td>0.000000</td>\n      <td>0.000000</td>\n    </tr>\n    <tr>\n      <th>2020-04-28</th>\n      <td>0.000000</td>\n      <td>0.421757</td>\n      <td>0.000000</td>\n      <td>0.000000</td>\n      <td>0.401261</td>\n      <td>0.000000</td>\n      <td>0.000000</td>\n      <td>0.000000</td>\n      <td>3.808435</td>\n      <td>0.000000</td>\n      <td>...</td>\n      <td>0.00000</td>\n      <td>0.000000</td>\n      <td>0.000000</td>\n      <td>0.000000</td>\n      <td>0.000000</td>\n      <td>0.000000</td>\n      <td>0.000000</td>\n      <td>0.000000</td>\n      <td>0.000000</td>\n      <td>0.000000</td>\n    </tr>\n    <tr>\n      <th>2020-07-27</th>\n      <td>0.000000</td>\n      <td>0.000000</td>\n      <td>0.000000</td>\n      <td>0.000000</td>\n      <td>0.000000</td>\n      <td>0.000000</td>\n      <td>0.000000</td>\n      <td>0.000000</td>\n      <td>0.000000</td>\n      <td>0.000000</td>\n      <td>...</td>\n      <td>0.00000</td>\n      <td>0.000000</td>\n      <td>0.000000</td>\n      <td>0.000000</td>\n      <td>0.000000</td>\n      <td>0.000000</td>\n      <td>0.000000</td>\n      <td>0.000000</td>\n      <td>0.000000</td>\n      <td>0.000000</td>\n    </tr>\n    <tr>\n      <th>2020-10-25</th>\n      <td>0.000000</td>\n      <td>0.000000</td>\n      <td>0.000000</td>\n      <td>0.000000</td>\n      <td>0.000000</td>\n      <td>0.000000</td>\n      <td>0.000000</td>\n      <td>0.000000</td>\n      <td>0.000000</td>\n      <td>0.000000</td>\n      <td>...</td>\n      <td>0.00000</td>\n      <td>0.000000</td>\n      <td>0.000000</td>\n      <td>0.000000</td>\n      <td>0.000000</td>\n      <td>0.000000</td>\n      <td>0.000000</td>\n      <td>0.000000</td>\n      <td>0.000000</td>\n      <td>0.000000</td>\n    </tr>\n    <tr>\n      <th>2021-01-23</th>\n      <td>0.000000</td>\n      <td>0.000000</td>\n      <td>0.000000</td>\n      <td>0.000000</td>\n      <td>0.000000</td>\n      <td>0.000000</td>\n      <td>0.000000</td>\n      <td>0.000000</td>\n      <td>0.471512</td>\n      <td>0.000000</td>\n      <td>...</td>\n      <td>0.00000</td>\n      <td>0.000000</td>\n      <td>0.000000</td>\n      <td>0.000000</td>\n      <td>0.000000</td>\n      <td>0.000000</td>\n      <td>0.000000</td>\n      <td>0.000000</td>\n      <td>0.000000</td>\n      <td>0.000000</td>\n    </tr>\n    <tr>\n      <th>2021-04-23</th>\n      <td>0.000000</td>\n      <td>0.000000</td>\n      <td>0.000000</td>\n      <td>0.000000</td>\n      <td>0.837262</td>\n      <td>0.000000</td>\n      <td>0.000000</td>\n      <td>0.000000</td>\n      <td>1.261960</td>\n      <td>0.000000</td>\n      <td>...</td>\n      <td>0.00000</td>\n      <td>0.000000</td>\n      <td>0.000000</td>\n      <td>0.000000</td>\n      <td>0.000000</td>\n      <td>0.000000</td>\n      <td>0.000000</td>\n      <td>0.000000</td>\n      <td>0.000000</td>\n      <td>0.000000</td>\n    </tr>\n    <tr>\n      <th>2021-07-22</th>\n      <td>0.000000</td>\n      <td>0.000000</td>\n      <td>0.000000</td>\n      <td>0.000000</td>\n      <td>0.000000</td>\n      <td>0.000000</td>\n      <td>0.000000</td>\n      <td>0.000000</td>\n      <td>0.000000</td>\n      <td>0.000000</td>\n      <td>...</td>\n      <td>0.48315</td>\n      <td>0.421158</td>\n      <td>0.000000</td>\n      <td>0.448792</td>\n      <td>0.448792</td>\n      <td>0.706106</td>\n      <td>0.438201</td>\n      <td>0.448792</td>\n      <td>0.369548</td>\n      <td>0.448792</td>\n    </tr>\n  </tbody>\n</table>\n<p>17 rows × 6686 columns</p>\n</div>"
     },
     "execution_count": 2,
     "metadata": {},
     "output_type": "execute_result"
    }
   ],
   "source": [
    "from pyhts.hierarchy import Hierarchy\n",
    "# Merge purchases and users\n",
    "merged_df = pd.merge(\n",
    "    purchases,\n",
    "    users\n",
    ")[['user_id', 'purchased_at', 'value', 'orig_1']]\n",
    "# Fix target categorical cols\n",
    "merged_df['user_id'] = merged_df.user_id.fillna(-1).astype(int).astype(str)\n",
    "merged_df['orig_1'] = merged_df.orig_1.fillna(-1).astype(int).astype(str)\n",
    "merged_df['t'] = merged_df.purchased_at.dt.date\n",
    "\n",
    "# Reduce number of user_ids by 85%\n",
    "merged_df = merged_df[\n",
    "    merged_df.user_id.isin(\n",
    "        merged_df.user_id.drop_duplicates().sample(\n",
    "            frac = 0.,\n",
    "            random_state = 42\n",
    "        )\n",
    "    )\n",
    "]\n",
    "hierarchy = Hierarchy.from_long(\n",
    "    df = merged_df.groupby(\n",
    "        ['orig_1', 'user_id']\n",
    "    ).value.sum().reset_index(),\n",
    "    keys = ['orig_1', 'user_id']\n",
    ")\n",
    "\n",
    "# - first creating bottom time series:\n",
    "Y_bottom = merged_df.groupby(\n",
    "    ['t', 'user_id']\n",
    ").value.sum().reset_index().pivot(\n",
    "    index='t',\n",
    "    columns=['user_id'],\n",
    "    values='value'\n",
    ")\n",
    "Y_bottom.index = pd.to_datetime(Y_bottom.index)\n",
    "Y_bottom = Y_bottom.resample('90d').sum()\n",
    "Y_bottom.columns = ['user_id_' + cols for cols in Y_bottom.columns]\n",
    "Y_bottom"
   ],
   "metadata": {
    "collapsed": false,
    "pycharm": {
     "name": "#%%\n"
    }
   }
  },
  {
   "cell_type": "code",
   "execution_count": 13,
   "outputs": [
    {
     "name": "stderr",
     "output_type": "stream",
     "text": [
      "100%|██████████| 3/3 [14:30<00:00, 290.26s/it]\n"
     ]
    }
   ],
   "source": [
    "from pyhts.HFModel import HFModel\n",
    "import tqdm\n",
    "from sklearn import metrics\n",
    "\n",
    "# Make train-validation dictionary\n",
    "train_val_dict = {\n",
    "    # key corresponds to fold number, values are (train, val)\n",
    "    1 : (Y_bottom.iloc[:-3], Y_bottom.iloc[[-3]]),\n",
    "    2 : (Y_bottom.iloc[:-2], Y_bottom.iloc[[-2]]),\n",
    "    3 : (Y_bottom.iloc[:-1], Y_bottom.iloc[[-1]])\n",
    "}\n",
    "# Results are stored here\n",
    "results_dict = dict()\n",
    "\n",
    "# Evaluate each fold\n",
    "for fold, (train, val) in tqdm.tqdm(train_val_dict.items()) :\n",
    "    # Generate model\n",
    "    model = HFModel(\n",
    "        hierarchy = hierarchy,\n",
    "        base_forecasters = \"arima\",\n",
    "        hf_method = \"comb\",\n",
    "        comb_method = \"ols\"\n",
    "    )\n",
    "    # Fit model\n",
    "    model.fit(train)\n",
    "    # Predict\n",
    "    predictions = model.predict(horizon=1)\n",
    "    # Store results (also with naive model)\n",
    "    results_dict[fold] = {\n",
    "        'model_mae' : metrics.mean_absolute_error(\n",
    "            predictions, val\n",
    "        ),\n",
    "        'naive_mae' : metrics.mean_absolute_error(\n",
    "            # Use last available row as prediction\n",
    "            train.iloc[[-1]], val\n",
    "        )\n",
    "    }"
   ],
   "metadata": {
    "collapsed": false,
    "pycharm": {
     "name": "#%%\n"
    }
   }
  },
  {
   "cell_type": "code",
   "execution_count": 18,
   "outputs": [
    {
     "data": {
      "text/plain": "             1 fold    2 fold    3 fold\nmodel_mae  0.227525  0.267809  0.203177\nnaive_mae  0.199993  0.240753  0.189326",
      "text/html": "<div>\n<style scoped>\n    .dataframe tbody tr th:only-of-type {\n        vertical-align: middle;\n    }\n\n    .dataframe tbody tr th {\n        vertical-align: top;\n    }\n\n    .dataframe thead th {\n        text-align: right;\n    }\n</style>\n<table border=\"1\" class=\"dataframe\">\n  <thead>\n    <tr style=\"text-align: right;\">\n      <th></th>\n      <th>1 fold</th>\n      <th>2 fold</th>\n      <th>3 fold</th>\n    </tr>\n  </thead>\n  <tbody>\n    <tr>\n      <th>model_mae</th>\n      <td>0.227525</td>\n      <td>0.267809</td>\n      <td>0.203177</td>\n    </tr>\n    <tr>\n      <th>naive_mae</th>\n      <td>0.199993</td>\n      <td>0.240753</td>\n      <td>0.189326</td>\n    </tr>\n  </tbody>\n</table>\n</div>"
     },
     "execution_count": 18,
     "metadata": {},
     "output_type": "execute_result"
    }
   ],
   "source": [
    "results = pd.DataFrame(results_dict)\n",
    "results.columns = [str(col) + ' fold' for col in results.columns]\n",
    "results"
   ],
   "metadata": {
    "collapsed": false,
    "pycharm": {
     "name": "#%%\n"
    }
   }
  },
  {
   "cell_type": "code",
   "execution_count": null,
   "outputs": [],
   "source": [],
   "metadata": {
    "collapsed": false,
    "pycharm": {
     "name": "#%%\n"
    }
   }
  }
 ],
 "metadata": {
  "kernelspec": {
   "display_name": "Python 3",
   "language": "python",
   "name": "python3"
  },
  "language_info": {
   "codemirror_mode": {
    "name": "ipython",
    "version": 2
   },
   "file_extension": ".py",
   "mimetype": "text/x-python",
   "name": "python",
   "nbconvert_exporter": "python",
   "pygments_lexer": "ipython2",
   "version": "2.7.6"
  }
 },
 "nbformat": 4,
 "nbformat_minor": 0
}